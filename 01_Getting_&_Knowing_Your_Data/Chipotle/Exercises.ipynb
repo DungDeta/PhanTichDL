{
 "cells": [
  {
   "cell_type": "markdown",
   "metadata": {
    "pycharm": {
     "name": "#%% md\n"
    }
   },
   "source": [
    "# Ex2 - Getting and Knowing your Data"
   ]
  },
  {
   "cell_type": "markdown",
   "metadata": {
    "pycharm": {
     "name": "#%% md\n"
    }
   },
   "source": [
    "This time we are going to pull data directly from the internet.\n",
    "Special thanks to: https://github.com/justmarkham for sharing the dataset and materials.\n",
    "\n",
    "### Step 1. Import the necessary libraries"
   ]
  },
  {
   "cell_type": "code",
   "metadata": {
    "collapsed": false,
    "pycharm": {
     "name": "#%%\n"
    },
    "ExecuteTime": {
     "end_time": "2025-04-28T06:38:27.698913Z",
     "start_time": "2025-04-28T06:38:27.309907Z"
    }
   },
   "source": "import pandas as pd",
   "outputs": [],
   "execution_count": 1
  },
  {
   "cell_type": "markdown",
   "metadata": {
    "pycharm": {
     "name": "#%% md\n"
    }
   },
   "source": [
    "### Step 2. Import the dataset from this [address](https://raw.githubusercontent.com/thieu1995/csv-files/main/data/pandas/chipotle.tsv)."
   ]
  },
  {
   "metadata": {
    "ExecuteTime": {
     "end_time": "2025-04-28T06:39:42.989516Z",
     "start_time": "2025-04-28T06:39:42.572424Z"
    }
   },
   "cell_type": "code",
   "source": "data= pd.read_csv('https://raw.githubusercontent.com/thieu1995/csv-files/main/data/pandas/chipotle.tsv', sep='\\t')",
   "outputs": [],
   "execution_count": 3
  },
  {
   "cell_type": "markdown",
   "metadata": {
    "pycharm": {
     "name": "#%% md\n"
    }
   },
   "source": [
    "### Step 3. Assign it to a variable called chipo."
   ]
  },
  {
   "cell_type": "code",
   "metadata": {
    "collapsed": false,
    "pycharm": {
     "name": "#%%\n"
    },
    "ExecuteTime": {
     "end_time": "2025-04-28T07:06:13.771077Z",
     "start_time": "2025-04-28T07:06:13.763463Z"
    }
   },
   "source": [
    "chipo= data\n",
    "chipo"
   ],
   "outputs": [
    {
     "data": {
      "text/plain": [
       "      order_id  quantity                              item_name  \\\n",
       "0            1         1           Chips and Fresh Tomato Salsa   \n",
       "1            1         1                                   Izze   \n",
       "2            1         1                       Nantucket Nectar   \n",
       "3            1         1  Chips and Tomatillo-Green Chili Salsa   \n",
       "4            2         2                           Chicken Bowl   \n",
       "...        ...       ...                                    ...   \n",
       "4617      1833         1                          Steak Burrito   \n",
       "4618      1833         1                          Steak Burrito   \n",
       "4619      1834         1                     Chicken Salad Bowl   \n",
       "4620      1834         1                     Chicken Salad Bowl   \n",
       "4621      1834         1                     Chicken Salad Bowl   \n",
       "\n",
       "                                     choice_description item_price  \n",
       "0                                                   NaN     $2.39   \n",
       "1                                          [Clementine]     $3.39   \n",
       "2                                               [Apple]     $3.39   \n",
       "3                                                   NaN     $2.39   \n",
       "4     [Tomatillo-Red Chili Salsa (Hot), [Black Beans...    $16.98   \n",
       "...                                                 ...        ...  \n",
       "4617  [Fresh Tomato Salsa, [Rice, Black Beans, Sour ...    $11.75   \n",
       "4618  [Fresh Tomato Salsa, [Rice, Sour Cream, Cheese...    $11.75   \n",
       "4619  [Fresh Tomato Salsa, [Fajita Vegetables, Pinto...    $11.25   \n",
       "4620  [Fresh Tomato Salsa, [Fajita Vegetables, Lettu...     $8.75   \n",
       "4621  [Fresh Tomato Salsa, [Fajita Vegetables, Pinto...     $8.75   \n",
       "\n",
       "[4622 rows x 5 columns]"
      ],
      "text/html": [
       "<div>\n",
       "<style scoped>\n",
       "    .dataframe tbody tr th:only-of-type {\n",
       "        vertical-align: middle;\n",
       "    }\n",
       "\n",
       "    .dataframe tbody tr th {\n",
       "        vertical-align: top;\n",
       "    }\n",
       "\n",
       "    .dataframe thead th {\n",
       "        text-align: right;\n",
       "    }\n",
       "</style>\n",
       "<table border=\"1\" class=\"dataframe\">\n",
       "  <thead>\n",
       "    <tr style=\"text-align: right;\">\n",
       "      <th></th>\n",
       "      <th>order_id</th>\n",
       "      <th>quantity</th>\n",
       "      <th>item_name</th>\n",
       "      <th>choice_description</th>\n",
       "      <th>item_price</th>\n",
       "    </tr>\n",
       "  </thead>\n",
       "  <tbody>\n",
       "    <tr>\n",
       "      <th>0</th>\n",
       "      <td>1</td>\n",
       "      <td>1</td>\n",
       "      <td>Chips and Fresh Tomato Salsa</td>\n",
       "      <td>NaN</td>\n",
       "      <td>$2.39</td>\n",
       "    </tr>\n",
       "    <tr>\n",
       "      <th>1</th>\n",
       "      <td>1</td>\n",
       "      <td>1</td>\n",
       "      <td>Izze</td>\n",
       "      <td>[Clementine]</td>\n",
       "      <td>$3.39</td>\n",
       "    </tr>\n",
       "    <tr>\n",
       "      <th>2</th>\n",
       "      <td>1</td>\n",
       "      <td>1</td>\n",
       "      <td>Nantucket Nectar</td>\n",
       "      <td>[Apple]</td>\n",
       "      <td>$3.39</td>\n",
       "    </tr>\n",
       "    <tr>\n",
       "      <th>3</th>\n",
       "      <td>1</td>\n",
       "      <td>1</td>\n",
       "      <td>Chips and Tomatillo-Green Chili Salsa</td>\n",
       "      <td>NaN</td>\n",
       "      <td>$2.39</td>\n",
       "    </tr>\n",
       "    <tr>\n",
       "      <th>4</th>\n",
       "      <td>2</td>\n",
       "      <td>2</td>\n",
       "      <td>Chicken Bowl</td>\n",
       "      <td>[Tomatillo-Red Chili Salsa (Hot), [Black Beans...</td>\n",
       "      <td>$16.98</td>\n",
       "    </tr>\n",
       "    <tr>\n",
       "      <th>...</th>\n",
       "      <td>...</td>\n",
       "      <td>...</td>\n",
       "      <td>...</td>\n",
       "      <td>...</td>\n",
       "      <td>...</td>\n",
       "    </tr>\n",
       "    <tr>\n",
       "      <th>4617</th>\n",
       "      <td>1833</td>\n",
       "      <td>1</td>\n",
       "      <td>Steak Burrito</td>\n",
       "      <td>[Fresh Tomato Salsa, [Rice, Black Beans, Sour ...</td>\n",
       "      <td>$11.75</td>\n",
       "    </tr>\n",
       "    <tr>\n",
       "      <th>4618</th>\n",
       "      <td>1833</td>\n",
       "      <td>1</td>\n",
       "      <td>Steak Burrito</td>\n",
       "      <td>[Fresh Tomato Salsa, [Rice, Sour Cream, Cheese...</td>\n",
       "      <td>$11.75</td>\n",
       "    </tr>\n",
       "    <tr>\n",
       "      <th>4619</th>\n",
       "      <td>1834</td>\n",
       "      <td>1</td>\n",
       "      <td>Chicken Salad Bowl</td>\n",
       "      <td>[Fresh Tomato Salsa, [Fajita Vegetables, Pinto...</td>\n",
       "      <td>$11.25</td>\n",
       "    </tr>\n",
       "    <tr>\n",
       "      <th>4620</th>\n",
       "      <td>1834</td>\n",
       "      <td>1</td>\n",
       "      <td>Chicken Salad Bowl</td>\n",
       "      <td>[Fresh Tomato Salsa, [Fajita Vegetables, Lettu...</td>\n",
       "      <td>$8.75</td>\n",
       "    </tr>\n",
       "    <tr>\n",
       "      <th>4621</th>\n",
       "      <td>1834</td>\n",
       "      <td>1</td>\n",
       "      <td>Chicken Salad Bowl</td>\n",
       "      <td>[Fresh Tomato Salsa, [Fajita Vegetables, Pinto...</td>\n",
       "      <td>$8.75</td>\n",
       "    </tr>\n",
       "  </tbody>\n",
       "</table>\n",
       "<p>4622 rows × 5 columns</p>\n",
       "</div>"
      ]
     },
     "execution_count": 38,
     "metadata": {},
     "output_type": "execute_result"
    }
   ],
   "execution_count": 38
  },
  {
   "cell_type": "markdown",
   "metadata": {
    "pycharm": {
     "name": "#%% md\n"
    }
   },
   "source": [
    "### Step 4. See the first 10 entries"
   ]
  },
  {
   "cell_type": "code",
   "metadata": {
    "collapsed": false,
    "scrolled": false,
    "pycharm": {
     "name": "#%%\n"
    },
    "ExecuteTime": {
     "end_time": "2025-04-28T06:40:48.730509Z",
     "start_time": "2025-04-28T06:40:48.717758Z"
    }
   },
   "source": "chipo.head(10)",
   "outputs": [
    {
     "data": {
      "text/plain": [
       "   order_id  quantity                              item_name  \\\n",
       "0         1         1           Chips and Fresh Tomato Salsa   \n",
       "1         1         1                                   Izze   \n",
       "2         1         1                       Nantucket Nectar   \n",
       "3         1         1  Chips and Tomatillo-Green Chili Salsa   \n",
       "4         2         2                           Chicken Bowl   \n",
       "5         3         1                           Chicken Bowl   \n",
       "6         3         1                          Side of Chips   \n",
       "7         4         1                          Steak Burrito   \n",
       "8         4         1                       Steak Soft Tacos   \n",
       "9         5         1                          Steak Burrito   \n",
       "\n",
       "                                  choice_description item_price  \n",
       "0                                                NaN     $2.39   \n",
       "1                                       [Clementine]     $3.39   \n",
       "2                                            [Apple]     $3.39   \n",
       "3                                                NaN     $2.39   \n",
       "4  [Tomatillo-Red Chili Salsa (Hot), [Black Beans...    $16.98   \n",
       "5  [Fresh Tomato Salsa (Mild), [Rice, Cheese, Sou...    $10.98   \n",
       "6                                                NaN     $1.69   \n",
       "7  [Tomatillo Red Chili Salsa, [Fajita Vegetables...    $11.75   \n",
       "8  [Tomatillo Green Chili Salsa, [Pinto Beans, Ch...     $9.25   \n",
       "9  [Fresh Tomato Salsa, [Rice, Black Beans, Pinto...     $9.25   "
      ],
      "text/html": [
       "<div>\n",
       "<style scoped>\n",
       "    .dataframe tbody tr th:only-of-type {\n",
       "        vertical-align: middle;\n",
       "    }\n",
       "\n",
       "    .dataframe tbody tr th {\n",
       "        vertical-align: top;\n",
       "    }\n",
       "\n",
       "    .dataframe thead th {\n",
       "        text-align: right;\n",
       "    }\n",
       "</style>\n",
       "<table border=\"1\" class=\"dataframe\">\n",
       "  <thead>\n",
       "    <tr style=\"text-align: right;\">\n",
       "      <th></th>\n",
       "      <th>order_id</th>\n",
       "      <th>quantity</th>\n",
       "      <th>item_name</th>\n",
       "      <th>choice_description</th>\n",
       "      <th>item_price</th>\n",
       "    </tr>\n",
       "  </thead>\n",
       "  <tbody>\n",
       "    <tr>\n",
       "      <th>0</th>\n",
       "      <td>1</td>\n",
       "      <td>1</td>\n",
       "      <td>Chips and Fresh Tomato Salsa</td>\n",
       "      <td>NaN</td>\n",
       "      <td>$2.39</td>\n",
       "    </tr>\n",
       "    <tr>\n",
       "      <th>1</th>\n",
       "      <td>1</td>\n",
       "      <td>1</td>\n",
       "      <td>Izze</td>\n",
       "      <td>[Clementine]</td>\n",
       "      <td>$3.39</td>\n",
       "    </tr>\n",
       "    <tr>\n",
       "      <th>2</th>\n",
       "      <td>1</td>\n",
       "      <td>1</td>\n",
       "      <td>Nantucket Nectar</td>\n",
       "      <td>[Apple]</td>\n",
       "      <td>$3.39</td>\n",
       "    </tr>\n",
       "    <tr>\n",
       "      <th>3</th>\n",
       "      <td>1</td>\n",
       "      <td>1</td>\n",
       "      <td>Chips and Tomatillo-Green Chili Salsa</td>\n",
       "      <td>NaN</td>\n",
       "      <td>$2.39</td>\n",
       "    </tr>\n",
       "    <tr>\n",
       "      <th>4</th>\n",
       "      <td>2</td>\n",
       "      <td>2</td>\n",
       "      <td>Chicken Bowl</td>\n",
       "      <td>[Tomatillo-Red Chili Salsa (Hot), [Black Beans...</td>\n",
       "      <td>$16.98</td>\n",
       "    </tr>\n",
       "    <tr>\n",
       "      <th>5</th>\n",
       "      <td>3</td>\n",
       "      <td>1</td>\n",
       "      <td>Chicken Bowl</td>\n",
       "      <td>[Fresh Tomato Salsa (Mild), [Rice, Cheese, Sou...</td>\n",
       "      <td>$10.98</td>\n",
       "    </tr>\n",
       "    <tr>\n",
       "      <th>6</th>\n",
       "      <td>3</td>\n",
       "      <td>1</td>\n",
       "      <td>Side of Chips</td>\n",
       "      <td>NaN</td>\n",
       "      <td>$1.69</td>\n",
       "    </tr>\n",
       "    <tr>\n",
       "      <th>7</th>\n",
       "      <td>4</td>\n",
       "      <td>1</td>\n",
       "      <td>Steak Burrito</td>\n",
       "      <td>[Tomatillo Red Chili Salsa, [Fajita Vegetables...</td>\n",
       "      <td>$11.75</td>\n",
       "    </tr>\n",
       "    <tr>\n",
       "      <th>8</th>\n",
       "      <td>4</td>\n",
       "      <td>1</td>\n",
       "      <td>Steak Soft Tacos</td>\n",
       "      <td>[Tomatillo Green Chili Salsa, [Pinto Beans, Ch...</td>\n",
       "      <td>$9.25</td>\n",
       "    </tr>\n",
       "    <tr>\n",
       "      <th>9</th>\n",
       "      <td>5</td>\n",
       "      <td>1</td>\n",
       "      <td>Steak Burrito</td>\n",
       "      <td>[Fresh Tomato Salsa, [Rice, Black Beans, Pinto...</td>\n",
       "      <td>$9.25</td>\n",
       "    </tr>\n",
       "  </tbody>\n",
       "</table>\n",
       "</div>"
      ]
     },
     "execution_count": 5,
     "metadata": {},
     "output_type": "execute_result"
    }
   ],
   "execution_count": 5
  },
  {
   "cell_type": "markdown",
   "metadata": {
    "pycharm": {
     "name": "#%% md\n"
    }
   },
   "source": [
    "### Step 5. What is the number of observations in the dataset?"
   ]
  },
  {
   "cell_type": "code",
   "metadata": {
    "collapsed": false,
    "pycharm": {
     "name": "#%%\n"
    },
    "ExecuteTime": {
     "end_time": "2025-04-28T06:42:04.353051Z",
     "start_time": "2025-04-28T06:42:04.348309Z"
    }
   },
   "source": [
    "# Solution 1\n",
    "chipo.shape"
   ],
   "outputs": [
    {
     "data": {
      "text/plain": [
       "(4622, 5)"
      ]
     },
     "execution_count": 6,
     "metadata": {},
     "output_type": "execute_result"
    }
   ],
   "execution_count": 6
  },
  {
   "cell_type": "code",
   "metadata": {
    "collapsed": false,
    "pycharm": {
     "name": "#%%\n"
    },
    "ExecuteTime": {
     "end_time": "2025-04-28T06:42:31.396341Z",
     "start_time": "2025-04-28T06:42:31.391897Z"
    }
   },
   "source": [
    "# Solution 2\n",
    "chipo.size/chipo.shape[1]"
   ],
   "outputs": [
    {
     "data": {
      "text/plain": [
       "4622.0"
      ]
     },
     "execution_count": 9,
     "metadata": {},
     "output_type": "execute_result"
    }
   ],
   "execution_count": 9
  },
  {
   "cell_type": "markdown",
   "metadata": {
    "pycharm": {
     "name": "#%% md\n"
    }
   },
   "source": [
    "### Step 6. What is the number of columns in the dataset?"
   ]
  },
  {
   "cell_type": "code",
   "metadata": {
    "collapsed": false,
    "pycharm": {
     "name": "#%%\n"
    },
    "ExecuteTime": {
     "end_time": "2025-04-28T06:45:11.798428Z",
     "start_time": "2025-04-28T06:45:11.794662Z"
    }
   },
   "source": "chipo.shape[1]",
   "outputs": [
    {
     "data": {
      "text/plain": [
       "5"
      ]
     },
     "execution_count": 13,
     "metadata": {},
     "output_type": "execute_result"
    }
   ],
   "execution_count": 13
  },
  {
   "cell_type": "markdown",
   "metadata": {
    "pycharm": {
     "name": "#%% md\n"
    }
   },
   "source": [
    "### Step 7. Print the name of all the columns."
   ]
  },
  {
   "cell_type": "code",
   "metadata": {
    "collapsed": false,
    "pycharm": {
     "name": "#%%\n"
    },
    "ExecuteTime": {
     "end_time": "2025-04-28T06:46:13.096123Z",
     "start_time": "2025-04-28T06:46:13.092258Z"
    }
   },
   "source": "print(chipo.columns.values)",
   "outputs": [
    {
     "name": "stdout",
     "output_type": "stream",
     "text": [
      "['order_id' 'quantity' 'item_name' 'choice_description' 'item_price']\n"
     ]
    }
   ],
   "execution_count": 18
  },
  {
   "cell_type": "markdown",
   "metadata": {
    "pycharm": {
     "name": "#%% md\n"
    }
   },
   "source": [
    "### Step 8. How is the dataset indexed?"
   ]
  },
  {
   "cell_type": "code",
   "metadata": {
    "collapsed": false,
    "pycharm": {
     "name": "#%%\n"
    },
    "ExecuteTime": {
     "end_time": "2025-04-28T06:48:32.648064Z",
     "start_time": "2025-04-28T06:48:32.643064Z"
    }
   },
   "source": "chipo.index",
   "outputs": [
    {
     "data": {
      "text/plain": [
       "RangeIndex(start=0, stop=4622, step=1)"
      ]
     },
     "execution_count": 19,
     "metadata": {},
     "output_type": "execute_result"
    }
   ],
   "execution_count": 19
  },
  {
   "cell_type": "markdown",
   "metadata": {
    "pycharm": {
     "name": "#%% md\n"
    }
   },
   "source": [
    "### Step 9. Which was the most-ordered item? "
   ]
  },
  {
   "cell_type": "code",
   "metadata": {
    "collapsed": false,
    "pycharm": {
     "name": "#%%\n"
    },
    "ExecuteTime": {
     "end_time": "2025-04-28T06:55:17.526431Z",
     "start_time": "2025-04-28T06:55:17.510972Z"
    }
   },
   "source": "chipo.groupby('item_name').sum().sort_values(by='quantity', ascending=False)",
   "outputs": [
    {
     "data": {
      "text/plain": [
       "                                       order_id  quantity  \\\n",
       "item_name                                                   \n",
       "Chicken Bowl                             713926       761   \n",
       "Chicken Burrito                          497303       591   \n",
       "Chips and Guacamole                      449959       506   \n",
       "Steak Burrito                            328437       386   \n",
       "Canned Soft Drink                        304753       351   \n",
       "Chips                                    208004       230   \n",
       "Steak Bowl                               193752       221   \n",
       "Bottled Water                            175944       211   \n",
       "Chips and Fresh Tomato Salsa             100419       130   \n",
       "Canned Soda                               76396       126   \n",
       "Chicken Salad Bowl                       117104       123   \n",
       "Chicken Soft Tacos                        98395       120   \n",
       "Side of Chips                             84769       110   \n",
       "Veggie Burrito                            80962        97   \n",
       "Barbacoa Burrito                          74718        91   \n",
       "Veggie Bowl                               72270        87   \n",
       "Carnitas Bowl                             62742        71   \n",
       "Barbacoa Bowl                             53972        66   \n",
       "Carnitas Burrito                          51652        60   \n",
       "Steak Soft Tacos                          50177        56   \n",
       "6 Pack Soft Drink                         52322        55   \n",
       "Chicken Crispy Tacos                      47382        50   \n",
       "Chips and Tomatillo Red Chili Salsa       45556        50   \n",
       "Chips and Tomatillo Green Chili Salsa     41170        45   \n",
       "Carnitas Soft Tacos                       37673        40   \n",
       "Steak Crispy Tacos                        35818        36   \n",
       "Chips and Tomatillo-Green Chili Salsa     21826        33   \n",
       "Steak Salad Bowl                          29590        31   \n",
       "Nantucket Nectar                          21814        29   \n",
       "Chips and Tomatillo-Red Chili Salsa       18344        25   \n",
       "Barbacoa Soft Tacos                       18725        25   \n",
       "Chips and Roasted Chili Corn Salsa        14999        23   \n",
       "Izze                                      10587        20   \n",
       "Veggie Salad Bowl                         17303        18   \n",
       "Chips and Roasted Chili-Corn Salsa        17462        18   \n",
       "Barbacoa Crispy Tacos                      5613        12   \n",
       "Barbacoa Salad Bowl                        9708        10   \n",
       "Chicken Salad                             10465         9   \n",
       "Carnitas Crispy Tacos                      5868         8   \n",
       "Veggie Soft Tacos                          5520         8   \n",
       "Burrito                                    1550         6   \n",
       "Carnitas Salad Bowl                        6693         6   \n",
       "Veggie Salad                               7265         6   \n",
       "Bowl                                        472         4   \n",
       "Steak Salad                                2362         4   \n",
       "Salad                                      1150         2   \n",
       "Crispy Tacos                                434         2   \n",
       "Carnitas Salad                             1500         1   \n",
       "Chips and Mild Fresh Tomato Salsa           279         1   \n",
       "Veggie Crispy Tacos                         668         1   \n",
       "\n",
       "                                                                      choice_description  \\\n",
       "item_name                                                                                  \n",
       "Chicken Bowl                           [Tomatillo-Red Chili Salsa (Hot), [Black Beans...   \n",
       "Chicken Burrito                        [Tomatillo-Green Chili Salsa (Medium), [Pinto ...   \n",
       "Chips and Guacamole                                                                    0   \n",
       "Steak Burrito                          [Tomatillo Red Chili Salsa, [Fajita Vegetables...   \n",
       "Canned Soft Drink                      [Coke][Sprite][Coke][Coke][Lemonade][Sprite][D...   \n",
       "Chips                                                                                  0   \n",
       "Steak Bowl                             [Fresh Tomato Salsa (Mild), [Black Beans, Rice...   \n",
       "Bottled Water                                                                          0   \n",
       "Chips and Fresh Tomato Salsa                                                           0   \n",
       "Canned Soda                            [Sprite][Dr. Pepper][Mountain Dew][Sprite][Dr....   \n",
       "Chicken Salad Bowl                     [Fresh Tomato Salsa, [Fajita Vegetables, Pinto...   \n",
       "Chicken Soft Tacos                     [Roasted Chili Corn Salsa, [Rice, Black Beans,...   \n",
       "Side of Chips                                                                          0   \n",
       "Veggie Burrito                         [Tomatillo Red Chili Salsa, [Fajita Vegetables...   \n",
       "Barbacoa Burrito                       [[Fresh Tomato Salsa (Mild), Tomatillo-Green C...   \n",
       "Veggie Bowl                            [Fresh Tomato Salsa, [Fajita Vegetables, Rice,...   \n",
       "Carnitas Bowl                          [Tomatillo-Red Chili Salsa (Hot), [Black Beans...   \n",
       "Barbacoa Bowl                          [Roasted Chili Corn Salsa, [Fajita Vegetables,...   \n",
       "Carnitas Burrito                       [[Tomatillo-Green Chili Salsa (Medium), Roaste...   \n",
       "Steak Soft Tacos                       [Tomatillo Green Chili Salsa, [Pinto Beans, Ch...   \n",
       "6 Pack Soft Drink                      [Sprite][Diet Coke][Coke][Diet Coke][Diet Coke...   \n",
       "Chicken Crispy Tacos                   [Roasted Chili Corn Salsa, [Fajita Vegetables,...   \n",
       "Chips and Tomatillo Red Chili Salsa                                                    0   \n",
       "Chips and Tomatillo Green Chili Salsa                                                  0   \n",
       "Carnitas Soft Tacos                    [Tomatillo Green Chili Salsa, [Fajita Vegetabl...   \n",
       "Steak Crispy Tacos                     [Fresh Tomato Salsa, Sour Cream][[Roasted Chil...   \n",
       "Chips and Tomatillo-Green Chili Salsa                                                  0   \n",
       "Steak Salad Bowl                       [Tomatillo Red Chili Salsa, [Black Beans, Chee...   \n",
       "Nantucket Nectar                       [Apple][Pomegranate Cherry][Pineapple Orange B...   \n",
       "Chips and Tomatillo-Red Chili Salsa                                                    0   \n",
       "Barbacoa Soft Tacos                    [Fresh Tomato Salsa, [Fajita Vegetables, Black...   \n",
       "Chips and Roasted Chili Corn Salsa                                                     0   \n",
       "Izze                                   [Clementine][Grapefruit][Blackberry][Blackberr...   \n",
       "Veggie Salad Bowl                      [Fresh Tomato Salsa, [Fajita Vegetables, Rice,...   \n",
       "Chips and Roasted Chili-Corn Salsa                                                     0   \n",
       "Barbacoa Crispy Tacos                  [Tomatillo Red Chili Salsa, [Rice, Black Beans...   \n",
       "Barbacoa Salad Bowl                    [Fresh Tomato Salsa, [Rice, Fajita Vegetables,...   \n",
       "Chicken Salad                          [Roasted Chili Corn Salsa (Medium), [Black Bea...   \n",
       "Carnitas Crispy Tacos                  [Roasted Chili Corn Salsa][Tomatillo Green Chi...   \n",
       "Veggie Soft Tacos                      [Tomatillo Red Chili Salsa, [Fajita Vegetables...   \n",
       "Burrito                                [Adobo-Marinated and Grilled Chicken, Pinto Be...   \n",
       "Carnitas Salad Bowl                    [Fresh Tomato Salsa, [Rice, Black Beans, Chees...   \n",
       "Veggie Salad                           [[Fresh Tomato Salsa (Mild), Roasted Chili Cor...   \n",
       "Bowl                                   [Braised Carnitas, Pinto Beans, [Sour Cream, C...   \n",
       "Steak Salad                            [Tomatillo-Red Chili Salsa (Hot), [Black Beans...   \n",
       "Salad                                  [Brown Rice, Adobo-Marinated and Grilled Chick...   \n",
       "Crispy Tacos                           [Adobo-Marinated and Grilled Steak][Adobo-Mari...   \n",
       "Carnitas Salad                         [[Fresh Tomato Salsa (Mild), Roasted Chili Cor...   \n",
       "Chips and Mild Fresh Tomato Salsa                                                      0   \n",
       "Veggie Crispy Tacos                    [Fresh Tomato Salsa (Mild), [Pinto Beans, Rice...   \n",
       "\n",
       "                                                                              item_price  \n",
       "item_name                                                                                 \n",
       "Chicken Bowl                           $16.98 $10.98 $11.25 $8.75 $8.49 $11.25 $8.75 ...  \n",
       "Chicken Burrito                        $8.49 $8.49 $10.98 $8.49 $10.98 $10.98 $8.75 $...  \n",
       "Chips and Guacamole                    $4.45 $4.45 $4.45 $4.45 $4.45 $3.99 $4.45 $3.9...  \n",
       "Steak Burrito                          $11.75 $9.25 $8.99 $11.75 $8.99 $8.99 $8.99 $8...  \n",
       "Canned Soft Drink                      $1.25 $1.25 $1.25 $1.25 $1.25 $1.25 $1.25 $1.2...  \n",
       "Chips                                  $2.15 $2.15 $2.15 $2.15 $2.15 $2.15 $4.30 $2.1...  \n",
       "Steak Bowl                             $8.99 $8.99 $11.75 $11.75 $8.99 $11.48 $9.25 $...  \n",
       "Bottled Water                          $1.09 $1.09 $1.09 $1.50 $1.50 $1.50 $3.00 $1.5...  \n",
       "Chips and Fresh Tomato Salsa           $2.39 $2.39 $2.39 $2.95 $2.95 $2.95 $2.95 $2.3...  \n",
       "Canned Soda                            $2.18 $1.09 $2.18 $1.09 $1.09 $1.09 $1.09 $2.1...  \n",
       "Chicken Salad Bowl                     $8.75 $22.50 $22.50 $8.75 $17.50 $8.75 $8.75 $...  \n",
       "Chicken Soft Tacos                     $8.75 $8.75 $8.75 $8.75 $11.25 $8.49 $8.49 $8....  \n",
       "Side of Chips                          $1.69 $1.69 $1.69 $1.69 $1.69 $1.69 $1.69 $1.6...  \n",
       "Veggie Burrito                         $11.25 $8.49 $11.25 $11.25 $10.98 $8.49 $8.49 ...  \n",
       "Barbacoa Burrito                       $8.99 $9.25 $9.25 $11.75 $11.75 $9.25 $8.99 $1...  \n",
       "Veggie Bowl                            $11.25 $8.49 $11.25 $11.25 $8.49 $11.25 $11.25...  \n",
       "Carnitas Bowl                          $8.99 $11.75 $9.25 $11.48 $8.99 $8.99 $23.50 $...  \n",
       "Barbacoa Bowl                          $11.75 $11.75 $9.25 $8.99 $9.25 $11.75 $9.25 $...  \n",
       "Carnitas Burrito                       $8.99 $9.25 $11.75 $9.25 $9.25 $9.25 $11.75 $9...  \n",
       "Steak Soft Tacos                       $9.25 $9.25 $8.99 $9.25 $8.99 $8.99 $9.25 $9.2...  \n",
       "6 Pack Soft Drink                      $6.49 $6.49 $6.49 $6.49 $6.49 $6.49 $6.49 $6.4...  \n",
       "Chicken Crispy Tacos                   $8.75 $17.50 $11.25 $8.49 $8.49 $11.25 $8.75 $...  \n",
       "Chips and Tomatillo Red Chili Salsa    $2.95 $2.95 $2.95 $2.95 $2.95 $2.95 $2.95 $2.9...  \n",
       "Chips and Tomatillo Green Chili Salsa  $2.95 $2.95 $5.90 $2.95 $2.95 $2.95 $2.95 $2.9...  \n",
       "Carnitas Soft Tacos                    $9.25 $9.25 $9.25 $9.25 $9.25 $8.99 $8.99 $8.9...  \n",
       "Steak Crispy Tacos                     $9.25 $8.99 $9.25 $8.69 $8.99 $9.25 $8.99 $9.2...  \n",
       "Chips and Tomatillo-Green Chili Salsa  $2.39 $2.39 $2.39 $2.39 $2.39 $2.39 $2.39 $2.3...  \n",
       "Steak Salad Bowl                       $23.78 $11.89 $9.39 $23.78 $11.89 $11.89 $11.8...  \n",
       "Nantucket Nectar                       $3.39 $3.39 $3.39 $3.39 $3.39 $3.39 $6.78 $3.3...  \n",
       "Chips and Tomatillo-Red Chili Salsa    $2.39 $2.39 $2.39 $2.39 $2.39 $2.39 $2.39 $2.3...  \n",
       "Barbacoa Soft Tacos                    $9.25 $9.25 $8.99 $9.25 $9.25 $11.75 $11.75 $9...  \n",
       "Chips and Roasted Chili Corn Salsa     $2.95 $2.95 $2.95 $2.95 $2.95 $2.95 $2.95 $2.9...  \n",
       "Izze                                   $3.39 $3.39 $3.39 $3.39 $3.39 $3.39 $3.39 $3.3...  \n",
       "Veggie Salad Bowl                      $11.25 $11.25 $11.25 $11.25 $8.75 $8.75 $11.25...  \n",
       "Chips and Roasted Chili-Corn Salsa     $2.39 $2.39 $2.39 $2.39 $2.39 $2.39 $2.39 $2.3...  \n",
       "Barbacoa Crispy Tacos                  $11.75 $9.25 $11.48 $11.75 $9.25 $9.25 $8.99 $...  \n",
       "Barbacoa Salad Bowl                    $11.89 $11.89 $9.39 $9.39 $9.39 $11.89 $11.89 ...  \n",
       "Chicken Salad                          $10.98 $10.98 $8.49 $8.49 $8.49 $8.49 $8.49 $8...  \n",
       "Carnitas Crispy Tacos                      $9.25 $11.75 $8.99 $11.75 $8.99 $17.98 $9.25   \n",
       "Veggie Soft Tacos                          $11.25 $8.75 $8.49 $11.25 $8.75 $8.49 $16.98   \n",
       "Burrito                                             $7.40 $7.40 $7.40 $7.40 $7.40 $7.40   \n",
       "Carnitas Salad Bowl                             $11.89 $9.39 $11.89 $9.39 $11.89 $11.89   \n",
       "Veggie Salad                                        $8.49 $8.49 $8.49 $8.49 $8.49 $8.49   \n",
       "Bowl                                                                       $22.20 $7.40   \n",
       "Steak Salad                                                     $8.99 $8.99 $8.99 $8.69   \n",
       "Salad                                                                       $7.40 $7.40   \n",
       "Crispy Tacos                                                                $7.40 $7.40   \n",
       "Carnitas Salad                                                                    $8.99   \n",
       "Chips and Mild Fresh Tomato Salsa                                                 $3.00   \n",
       "Veggie Crispy Tacos                                                               $8.49   "
      ],
      "text/html": [
       "<div>\n",
       "<style scoped>\n",
       "    .dataframe tbody tr th:only-of-type {\n",
       "        vertical-align: middle;\n",
       "    }\n",
       "\n",
       "    .dataframe tbody tr th {\n",
       "        vertical-align: top;\n",
       "    }\n",
       "\n",
       "    .dataframe thead th {\n",
       "        text-align: right;\n",
       "    }\n",
       "</style>\n",
       "<table border=\"1\" class=\"dataframe\">\n",
       "  <thead>\n",
       "    <tr style=\"text-align: right;\">\n",
       "      <th></th>\n",
       "      <th>order_id</th>\n",
       "      <th>quantity</th>\n",
       "      <th>choice_description</th>\n",
       "      <th>item_price</th>\n",
       "    </tr>\n",
       "    <tr>\n",
       "      <th>item_name</th>\n",
       "      <th></th>\n",
       "      <th></th>\n",
       "      <th></th>\n",
       "      <th></th>\n",
       "    </tr>\n",
       "  </thead>\n",
       "  <tbody>\n",
       "    <tr>\n",
       "      <th>Chicken Bowl</th>\n",
       "      <td>713926</td>\n",
       "      <td>761</td>\n",
       "      <td>[Tomatillo-Red Chili Salsa (Hot), [Black Beans...</td>\n",
       "      <td>$16.98 $10.98 $11.25 $8.75 $8.49 $11.25 $8.75 ...</td>\n",
       "    </tr>\n",
       "    <tr>\n",
       "      <th>Chicken Burrito</th>\n",
       "      <td>497303</td>\n",
       "      <td>591</td>\n",
       "      <td>[Tomatillo-Green Chili Salsa (Medium), [Pinto ...</td>\n",
       "      <td>$8.49 $8.49 $10.98 $8.49 $10.98 $10.98 $8.75 $...</td>\n",
       "    </tr>\n",
       "    <tr>\n",
       "      <th>Chips and Guacamole</th>\n",
       "      <td>449959</td>\n",
       "      <td>506</td>\n",
       "      <td>0</td>\n",
       "      <td>$4.45 $4.45 $4.45 $4.45 $4.45 $3.99 $4.45 $3.9...</td>\n",
       "    </tr>\n",
       "    <tr>\n",
       "      <th>Steak Burrito</th>\n",
       "      <td>328437</td>\n",
       "      <td>386</td>\n",
       "      <td>[Tomatillo Red Chili Salsa, [Fajita Vegetables...</td>\n",
       "      <td>$11.75 $9.25 $8.99 $11.75 $8.99 $8.99 $8.99 $8...</td>\n",
       "    </tr>\n",
       "    <tr>\n",
       "      <th>Canned Soft Drink</th>\n",
       "      <td>304753</td>\n",
       "      <td>351</td>\n",
       "      <td>[Coke][Sprite][Coke][Coke][Lemonade][Sprite][D...</td>\n",
       "      <td>$1.25 $1.25 $1.25 $1.25 $1.25 $1.25 $1.25 $1.2...</td>\n",
       "    </tr>\n",
       "    <tr>\n",
       "      <th>Chips</th>\n",
       "      <td>208004</td>\n",
       "      <td>230</td>\n",
       "      <td>0</td>\n",
       "      <td>$2.15 $2.15 $2.15 $2.15 $2.15 $2.15 $4.30 $2.1...</td>\n",
       "    </tr>\n",
       "    <tr>\n",
       "      <th>Steak Bowl</th>\n",
       "      <td>193752</td>\n",
       "      <td>221</td>\n",
       "      <td>[Fresh Tomato Salsa (Mild), [Black Beans, Rice...</td>\n",
       "      <td>$8.99 $8.99 $11.75 $11.75 $8.99 $11.48 $9.25 $...</td>\n",
       "    </tr>\n",
       "    <tr>\n",
       "      <th>Bottled Water</th>\n",
       "      <td>175944</td>\n",
       "      <td>211</td>\n",
       "      <td>0</td>\n",
       "      <td>$1.09 $1.09 $1.09 $1.50 $1.50 $1.50 $3.00 $1.5...</td>\n",
       "    </tr>\n",
       "    <tr>\n",
       "      <th>Chips and Fresh Tomato Salsa</th>\n",
       "      <td>100419</td>\n",
       "      <td>130</td>\n",
       "      <td>0</td>\n",
       "      <td>$2.39 $2.39 $2.39 $2.95 $2.95 $2.95 $2.95 $2.3...</td>\n",
       "    </tr>\n",
       "    <tr>\n",
       "      <th>Canned Soda</th>\n",
       "      <td>76396</td>\n",
       "      <td>126</td>\n",
       "      <td>[Sprite][Dr. Pepper][Mountain Dew][Sprite][Dr....</td>\n",
       "      <td>$2.18 $1.09 $2.18 $1.09 $1.09 $1.09 $1.09 $2.1...</td>\n",
       "    </tr>\n",
       "    <tr>\n",
       "      <th>Chicken Salad Bowl</th>\n",
       "      <td>117104</td>\n",
       "      <td>123</td>\n",
       "      <td>[Fresh Tomato Salsa, [Fajita Vegetables, Pinto...</td>\n",
       "      <td>$8.75 $22.50 $22.50 $8.75 $17.50 $8.75 $8.75 $...</td>\n",
       "    </tr>\n",
       "    <tr>\n",
       "      <th>Chicken Soft Tacos</th>\n",
       "      <td>98395</td>\n",
       "      <td>120</td>\n",
       "      <td>[Roasted Chili Corn Salsa, [Rice, Black Beans,...</td>\n",
       "      <td>$8.75 $8.75 $8.75 $8.75 $11.25 $8.49 $8.49 $8....</td>\n",
       "    </tr>\n",
       "    <tr>\n",
       "      <th>Side of Chips</th>\n",
       "      <td>84769</td>\n",
       "      <td>110</td>\n",
       "      <td>0</td>\n",
       "      <td>$1.69 $1.69 $1.69 $1.69 $1.69 $1.69 $1.69 $1.6...</td>\n",
       "    </tr>\n",
       "    <tr>\n",
       "      <th>Veggie Burrito</th>\n",
       "      <td>80962</td>\n",
       "      <td>97</td>\n",
       "      <td>[Tomatillo Red Chili Salsa, [Fajita Vegetables...</td>\n",
       "      <td>$11.25 $8.49 $11.25 $11.25 $10.98 $8.49 $8.49 ...</td>\n",
       "    </tr>\n",
       "    <tr>\n",
       "      <th>Barbacoa Burrito</th>\n",
       "      <td>74718</td>\n",
       "      <td>91</td>\n",
       "      <td>[[Fresh Tomato Salsa (Mild), Tomatillo-Green C...</td>\n",
       "      <td>$8.99 $9.25 $9.25 $11.75 $11.75 $9.25 $8.99 $1...</td>\n",
       "    </tr>\n",
       "    <tr>\n",
       "      <th>Veggie Bowl</th>\n",
       "      <td>72270</td>\n",
       "      <td>87</td>\n",
       "      <td>[Fresh Tomato Salsa, [Fajita Vegetables, Rice,...</td>\n",
       "      <td>$11.25 $8.49 $11.25 $11.25 $8.49 $11.25 $11.25...</td>\n",
       "    </tr>\n",
       "    <tr>\n",
       "      <th>Carnitas Bowl</th>\n",
       "      <td>62742</td>\n",
       "      <td>71</td>\n",
       "      <td>[Tomatillo-Red Chili Salsa (Hot), [Black Beans...</td>\n",
       "      <td>$8.99 $11.75 $9.25 $11.48 $8.99 $8.99 $23.50 $...</td>\n",
       "    </tr>\n",
       "    <tr>\n",
       "      <th>Barbacoa Bowl</th>\n",
       "      <td>53972</td>\n",
       "      <td>66</td>\n",
       "      <td>[Roasted Chili Corn Salsa, [Fajita Vegetables,...</td>\n",
       "      <td>$11.75 $11.75 $9.25 $8.99 $9.25 $11.75 $9.25 $...</td>\n",
       "    </tr>\n",
       "    <tr>\n",
       "      <th>Carnitas Burrito</th>\n",
       "      <td>51652</td>\n",
       "      <td>60</td>\n",
       "      <td>[[Tomatillo-Green Chili Salsa (Medium), Roaste...</td>\n",
       "      <td>$8.99 $9.25 $11.75 $9.25 $9.25 $9.25 $11.75 $9...</td>\n",
       "    </tr>\n",
       "    <tr>\n",
       "      <th>Steak Soft Tacos</th>\n",
       "      <td>50177</td>\n",
       "      <td>56</td>\n",
       "      <td>[Tomatillo Green Chili Salsa, [Pinto Beans, Ch...</td>\n",
       "      <td>$9.25 $9.25 $8.99 $9.25 $8.99 $8.99 $9.25 $9.2...</td>\n",
       "    </tr>\n",
       "    <tr>\n",
       "      <th>6 Pack Soft Drink</th>\n",
       "      <td>52322</td>\n",
       "      <td>55</td>\n",
       "      <td>[Sprite][Diet Coke][Coke][Diet Coke][Diet Coke...</td>\n",
       "      <td>$6.49 $6.49 $6.49 $6.49 $6.49 $6.49 $6.49 $6.4...</td>\n",
       "    </tr>\n",
       "    <tr>\n",
       "      <th>Chicken Crispy Tacos</th>\n",
       "      <td>47382</td>\n",
       "      <td>50</td>\n",
       "      <td>[Roasted Chili Corn Salsa, [Fajita Vegetables,...</td>\n",
       "      <td>$8.75 $17.50 $11.25 $8.49 $8.49 $11.25 $8.75 $...</td>\n",
       "    </tr>\n",
       "    <tr>\n",
       "      <th>Chips and Tomatillo Red Chili Salsa</th>\n",
       "      <td>45556</td>\n",
       "      <td>50</td>\n",
       "      <td>0</td>\n",
       "      <td>$2.95 $2.95 $2.95 $2.95 $2.95 $2.95 $2.95 $2.9...</td>\n",
       "    </tr>\n",
       "    <tr>\n",
       "      <th>Chips and Tomatillo Green Chili Salsa</th>\n",
       "      <td>41170</td>\n",
       "      <td>45</td>\n",
       "      <td>0</td>\n",
       "      <td>$2.95 $2.95 $5.90 $2.95 $2.95 $2.95 $2.95 $2.9...</td>\n",
       "    </tr>\n",
       "    <tr>\n",
       "      <th>Carnitas Soft Tacos</th>\n",
       "      <td>37673</td>\n",
       "      <td>40</td>\n",
       "      <td>[Tomatillo Green Chili Salsa, [Fajita Vegetabl...</td>\n",
       "      <td>$9.25 $9.25 $9.25 $9.25 $9.25 $8.99 $8.99 $8.9...</td>\n",
       "    </tr>\n",
       "    <tr>\n",
       "      <th>Steak Crispy Tacos</th>\n",
       "      <td>35818</td>\n",
       "      <td>36</td>\n",
       "      <td>[Fresh Tomato Salsa, Sour Cream][[Roasted Chil...</td>\n",
       "      <td>$9.25 $8.99 $9.25 $8.69 $8.99 $9.25 $8.99 $9.2...</td>\n",
       "    </tr>\n",
       "    <tr>\n",
       "      <th>Chips and Tomatillo-Green Chili Salsa</th>\n",
       "      <td>21826</td>\n",
       "      <td>33</td>\n",
       "      <td>0</td>\n",
       "      <td>$2.39 $2.39 $2.39 $2.39 $2.39 $2.39 $2.39 $2.3...</td>\n",
       "    </tr>\n",
       "    <tr>\n",
       "      <th>Steak Salad Bowl</th>\n",
       "      <td>29590</td>\n",
       "      <td>31</td>\n",
       "      <td>[Tomatillo Red Chili Salsa, [Black Beans, Chee...</td>\n",
       "      <td>$23.78 $11.89 $9.39 $23.78 $11.89 $11.89 $11.8...</td>\n",
       "    </tr>\n",
       "    <tr>\n",
       "      <th>Nantucket Nectar</th>\n",
       "      <td>21814</td>\n",
       "      <td>29</td>\n",
       "      <td>[Apple][Pomegranate Cherry][Pineapple Orange B...</td>\n",
       "      <td>$3.39 $3.39 $3.39 $3.39 $3.39 $3.39 $6.78 $3.3...</td>\n",
       "    </tr>\n",
       "    <tr>\n",
       "      <th>Chips and Tomatillo-Red Chili Salsa</th>\n",
       "      <td>18344</td>\n",
       "      <td>25</td>\n",
       "      <td>0</td>\n",
       "      <td>$2.39 $2.39 $2.39 $2.39 $2.39 $2.39 $2.39 $2.3...</td>\n",
       "    </tr>\n",
       "    <tr>\n",
       "      <th>Barbacoa Soft Tacos</th>\n",
       "      <td>18725</td>\n",
       "      <td>25</td>\n",
       "      <td>[Fresh Tomato Salsa, [Fajita Vegetables, Black...</td>\n",
       "      <td>$9.25 $9.25 $8.99 $9.25 $9.25 $11.75 $11.75 $9...</td>\n",
       "    </tr>\n",
       "    <tr>\n",
       "      <th>Chips and Roasted Chili Corn Salsa</th>\n",
       "      <td>14999</td>\n",
       "      <td>23</td>\n",
       "      <td>0</td>\n",
       "      <td>$2.95 $2.95 $2.95 $2.95 $2.95 $2.95 $2.95 $2.9...</td>\n",
       "    </tr>\n",
       "    <tr>\n",
       "      <th>Izze</th>\n",
       "      <td>10587</td>\n",
       "      <td>20</td>\n",
       "      <td>[Clementine][Grapefruit][Blackberry][Blackberr...</td>\n",
       "      <td>$3.39 $3.39 $3.39 $3.39 $3.39 $3.39 $3.39 $3.3...</td>\n",
       "    </tr>\n",
       "    <tr>\n",
       "      <th>Veggie Salad Bowl</th>\n",
       "      <td>17303</td>\n",
       "      <td>18</td>\n",
       "      <td>[Fresh Tomato Salsa, [Fajita Vegetables, Rice,...</td>\n",
       "      <td>$11.25 $11.25 $11.25 $11.25 $8.75 $8.75 $11.25...</td>\n",
       "    </tr>\n",
       "    <tr>\n",
       "      <th>Chips and Roasted Chili-Corn Salsa</th>\n",
       "      <td>17462</td>\n",
       "      <td>18</td>\n",
       "      <td>0</td>\n",
       "      <td>$2.39 $2.39 $2.39 $2.39 $2.39 $2.39 $2.39 $2.3...</td>\n",
       "    </tr>\n",
       "    <tr>\n",
       "      <th>Barbacoa Crispy Tacos</th>\n",
       "      <td>5613</td>\n",
       "      <td>12</td>\n",
       "      <td>[Tomatillo Red Chili Salsa, [Rice, Black Beans...</td>\n",
       "      <td>$11.75 $9.25 $11.48 $11.75 $9.25 $9.25 $8.99 $...</td>\n",
       "    </tr>\n",
       "    <tr>\n",
       "      <th>Barbacoa Salad Bowl</th>\n",
       "      <td>9708</td>\n",
       "      <td>10</td>\n",
       "      <td>[Fresh Tomato Salsa, [Rice, Fajita Vegetables,...</td>\n",
       "      <td>$11.89 $11.89 $9.39 $9.39 $9.39 $11.89 $11.89 ...</td>\n",
       "    </tr>\n",
       "    <tr>\n",
       "      <th>Chicken Salad</th>\n",
       "      <td>10465</td>\n",
       "      <td>9</td>\n",
       "      <td>[Roasted Chili Corn Salsa (Medium), [Black Bea...</td>\n",
       "      <td>$10.98 $10.98 $8.49 $8.49 $8.49 $8.49 $8.49 $8...</td>\n",
       "    </tr>\n",
       "    <tr>\n",
       "      <th>Carnitas Crispy Tacos</th>\n",
       "      <td>5868</td>\n",
       "      <td>8</td>\n",
       "      <td>[Roasted Chili Corn Salsa][Tomatillo Green Chi...</td>\n",
       "      <td>$9.25 $11.75 $8.99 $11.75 $8.99 $17.98 $9.25</td>\n",
       "    </tr>\n",
       "    <tr>\n",
       "      <th>Veggie Soft Tacos</th>\n",
       "      <td>5520</td>\n",
       "      <td>8</td>\n",
       "      <td>[Tomatillo Red Chili Salsa, [Fajita Vegetables...</td>\n",
       "      <td>$11.25 $8.75 $8.49 $11.25 $8.75 $8.49 $16.98</td>\n",
       "    </tr>\n",
       "    <tr>\n",
       "      <th>Burrito</th>\n",
       "      <td>1550</td>\n",
       "      <td>6</td>\n",
       "      <td>[Adobo-Marinated and Grilled Chicken, Pinto Be...</td>\n",
       "      <td>$7.40 $7.40 $7.40 $7.40 $7.40 $7.40</td>\n",
       "    </tr>\n",
       "    <tr>\n",
       "      <th>Carnitas Salad Bowl</th>\n",
       "      <td>6693</td>\n",
       "      <td>6</td>\n",
       "      <td>[Fresh Tomato Salsa, [Rice, Black Beans, Chees...</td>\n",
       "      <td>$11.89 $9.39 $11.89 $9.39 $11.89 $11.89</td>\n",
       "    </tr>\n",
       "    <tr>\n",
       "      <th>Veggie Salad</th>\n",
       "      <td>7265</td>\n",
       "      <td>6</td>\n",
       "      <td>[[Fresh Tomato Salsa (Mild), Roasted Chili Cor...</td>\n",
       "      <td>$8.49 $8.49 $8.49 $8.49 $8.49 $8.49</td>\n",
       "    </tr>\n",
       "    <tr>\n",
       "      <th>Bowl</th>\n",
       "      <td>472</td>\n",
       "      <td>4</td>\n",
       "      <td>[Braised Carnitas, Pinto Beans, [Sour Cream, C...</td>\n",
       "      <td>$22.20 $7.40</td>\n",
       "    </tr>\n",
       "    <tr>\n",
       "      <th>Steak Salad</th>\n",
       "      <td>2362</td>\n",
       "      <td>4</td>\n",
       "      <td>[Tomatillo-Red Chili Salsa (Hot), [Black Beans...</td>\n",
       "      <td>$8.99 $8.99 $8.99 $8.69</td>\n",
       "    </tr>\n",
       "    <tr>\n",
       "      <th>Salad</th>\n",
       "      <td>1150</td>\n",
       "      <td>2</td>\n",
       "      <td>[Brown Rice, Adobo-Marinated and Grilled Chick...</td>\n",
       "      <td>$7.40 $7.40</td>\n",
       "    </tr>\n",
       "    <tr>\n",
       "      <th>Crispy Tacos</th>\n",
       "      <td>434</td>\n",
       "      <td>2</td>\n",
       "      <td>[Adobo-Marinated and Grilled Steak][Adobo-Mari...</td>\n",
       "      <td>$7.40 $7.40</td>\n",
       "    </tr>\n",
       "    <tr>\n",
       "      <th>Carnitas Salad</th>\n",
       "      <td>1500</td>\n",
       "      <td>1</td>\n",
       "      <td>[[Fresh Tomato Salsa (Mild), Roasted Chili Cor...</td>\n",
       "      <td>$8.99</td>\n",
       "    </tr>\n",
       "    <tr>\n",
       "      <th>Chips and Mild Fresh Tomato Salsa</th>\n",
       "      <td>279</td>\n",
       "      <td>1</td>\n",
       "      <td>0</td>\n",
       "      <td>$3.00</td>\n",
       "    </tr>\n",
       "    <tr>\n",
       "      <th>Veggie Crispy Tacos</th>\n",
       "      <td>668</td>\n",
       "      <td>1</td>\n",
       "      <td>[Fresh Tomato Salsa (Mild), [Pinto Beans, Rice...</td>\n",
       "      <td>$8.49</td>\n",
       "    </tr>\n",
       "  </tbody>\n",
       "</table>\n",
       "</div>"
      ]
     },
     "execution_count": 27,
     "metadata": {},
     "output_type": "execute_result"
    }
   ],
   "execution_count": 27
  },
  {
   "cell_type": "markdown",
   "metadata": {
    "pycharm": {
     "name": "#%% md\n"
    }
   },
   "source": [
    "### Step 10. For the most-ordered item, how many items were ordered?"
   ]
  },
  {
   "cell_type": "code",
   "metadata": {
    "collapsed": false,
    "pycharm": {
     "name": "#%%\n"
    },
    "ExecuteTime": {
     "end_time": "2025-04-28T06:59:39.372935Z",
     "start_time": "2025-04-28T06:59:39.363411Z"
    }
   },
   "source": "chipo.groupby('item_name').sum()['quantity'].max()",
   "outputs": [
    {
     "data": {
      "text/plain": [
       "761"
      ]
     },
     "execution_count": 35,
     "metadata": {},
     "output_type": "execute_result"
    }
   ],
   "execution_count": 35
  },
  {
   "cell_type": "markdown",
   "metadata": {
    "pycharm": {
     "name": "#%% md\n"
    }
   },
   "source": [
    "### Step 11. What was the most ordered item in the choice_description column?"
   ]
  },
  {
   "cell_type": "code",
   "metadata": {
    "collapsed": false,
    "pycharm": {
     "name": "#%%\n"
    },
    "ExecuteTime": {
     "end_time": "2025-04-28T07:04:27.923178Z",
     "start_time": "2025-04-28T07:04:27.914179Z"
    }
   },
   "source": "chipo.groupby('item_name').count()['choice_description'].idxmax()",
   "outputs": [
    {
     "data": {
      "text/plain": [
       "'Chicken Bowl'"
      ]
     },
     "execution_count": 36,
     "metadata": {},
     "output_type": "execute_result"
    }
   ],
   "execution_count": 36
  },
  {
   "cell_type": "markdown",
   "metadata": {
    "pycharm": {
     "name": "#%% md\n"
    }
   },
   "source": [
    "### Step 12. How many items were orderd in total?"
   ]
  },
  {
   "cell_type": "code",
   "metadata": {
    "collapsed": false,
    "pycharm": {
     "name": "#%%\n"
    },
    "ExecuteTime": {
     "end_time": "2025-04-28T07:04:57.193670Z",
     "start_time": "2025-04-28T07:04:57.188944Z"
    }
   },
   "source": "chipo['quantity'].sum()",
   "outputs": [
    {
     "data": {
      "text/plain": [
       "np.int64(4972)"
      ]
     },
     "execution_count": 37,
     "metadata": {},
     "output_type": "execute_result"
    }
   ],
   "execution_count": 37
  },
  {
   "cell_type": "markdown",
   "metadata": {
    "pycharm": {
     "name": "#%% md\n"
    }
   },
   "source": [
    "### Step 13. Turn the item price into a float"
   ]
  },
  {
   "cell_type": "markdown",
   "metadata": {
    "pycharm": {
     "name": "#%% md\n"
    }
   },
   "source": [
    "#### Step 13.a. Check the item price type"
   ]
  },
  {
   "cell_type": "code",
   "metadata": {
    "collapsed": false,
    "pycharm": {
     "name": "#%%\n"
    },
    "ExecuteTime": {
     "end_time": "2025-04-28T07:07:10.355911Z",
     "start_time": "2025-04-28T07:07:10.351060Z"
    }
   },
   "source": "chipo['item_price'].dtype",
   "outputs": [
    {
     "data": {
      "text/plain": [
       "dtype('O')"
      ]
     },
     "execution_count": 39,
     "metadata": {},
     "output_type": "execute_result"
    }
   ],
   "execution_count": 39
  },
  {
   "cell_type": "markdown",
   "metadata": {
    "pycharm": {
     "name": "#%% md\n"
    }
   },
   "source": [
    "#### Step 13.b. Create a lambda function and change the type of item price"
   ]
  },
  {
   "cell_type": "code",
   "metadata": {
    "collapsed": true,
    "pycharm": {
     "name": "#%%\n"
    },
    "ExecuteTime": {
     "end_time": "2025-04-28T07:08:23.556270Z",
     "start_time": "2025-04-28T07:08:23.550927Z"
    }
   },
   "source": "chipo['item_price']=chipo['item_price'].apply(lambda x: float(x[1:]))",
   "outputs": [],
   "execution_count": 42
  },
  {
   "cell_type": "markdown",
   "metadata": {
    "pycharm": {
     "name": "#%% md\n"
    }
   },
   "source": [
    "#### Step 13.c. Check the item price type"
   ]
  },
  {
   "cell_type": "code",
   "metadata": {
    "collapsed": false,
    "pycharm": {
     "name": "#%%\n"
    },
    "ExecuteTime": {
     "end_time": "2025-04-28T07:08:25.793786Z",
     "start_time": "2025-04-28T07:08:25.789795Z"
    }
   },
   "source": "chipo['item_price'].dtype",
   "outputs": [
    {
     "data": {
      "text/plain": [
       "dtype('float64')"
      ]
     },
     "execution_count": 43,
     "metadata": {},
     "output_type": "execute_result"
    }
   ],
   "execution_count": 43
  },
  {
   "cell_type": "markdown",
   "metadata": {
    "pycharm": {
     "name": "#%% md\n"
    }
   },
   "source": [
    "### Step 14. How much was the revenue for the period in the dataset?"
   ]
  },
  {
   "cell_type": "code",
   "metadata": {
    "collapsed": false,
    "pycharm": {
     "name": "#%%\n"
    },
    "ExecuteTime": {
     "end_time": "2025-04-28T07:11:04.449376Z",
     "start_time": "2025-04-28T07:11:04.444141Z"
    }
   },
   "source": [
    "sum_rev=chipo['item_price'].sum()\n",
    "sum_rev"
   ],
   "outputs": [
    {
     "data": {
      "text/plain": [
       "np.float64(34500.16)"
      ]
     },
     "execution_count": 46,
     "metadata": {},
     "output_type": "execute_result"
    }
   ],
   "execution_count": 46
  },
  {
   "cell_type": "markdown",
   "metadata": {
    "pycharm": {
     "name": "#%% md\n"
    }
   },
   "source": [
    "### Step 15. How many orders were made in the period?"
   ]
  },
  {
   "cell_type": "code",
   "metadata": {
    "collapsed": false,
    "pycharm": {
     "name": "#%%\n"
    },
    "ExecuteTime": {
     "end_time": "2025-04-28T07:11:05.301932Z",
     "start_time": "2025-04-28T07:11:05.296905Z"
    }
   },
   "source": [
    "norder=chipo['order_id'].nunique()\n",
    "norder"
   ],
   "outputs": [
    {
     "data": {
      "text/plain": [
       "1834"
      ]
     },
     "execution_count": 47,
     "metadata": {},
     "output_type": "execute_result"
    }
   ],
   "execution_count": 47
  },
  {
   "cell_type": "markdown",
   "metadata": {
    "pycharm": {
     "name": "#%% md\n"
    }
   },
   "source": [
    "### Step 16. What is the average revenue amount per order?"
   ]
  },
  {
   "cell_type": "code",
   "metadata": {
    "collapsed": false,
    "pycharm": {
     "name": "#%%\n"
    },
    "ExecuteTime": {
     "end_time": "2025-04-28T07:11:13.729233Z",
     "start_time": "2025-04-28T07:11:13.724700Z"
    }
   },
   "source": [
    "# Solution 1\n",
    "avg=sum_rev/norder\n",
    "avg"
   ],
   "outputs": [
    {
     "data": {
      "text/plain": [
       "np.float64(18.811428571428575)"
      ]
     },
     "execution_count": 49,
     "metadata": {},
     "output_type": "execute_result"
    }
   ],
   "execution_count": 49
  },
  {
   "cell_type": "code",
   "metadata": {
    "collapsed": false,
    "pycharm": {
     "name": "#%%\n"
    },
    "ExecuteTime": {
     "end_time": "2025-04-28T07:16:26.416851Z",
     "start_time": "2025-04-28T07:16:26.404484Z"
    }
   },
   "source": [
    "# Solution 2\n",
    "chipo.groupby('order_id').sum()['item_price'].mean()"
   ],
   "outputs": [
    {
     "data": {
      "text/plain": [
       "np.float64(18.811428571428568)"
      ]
     },
     "execution_count": 50,
     "metadata": {},
     "output_type": "execute_result"
    }
   ],
   "execution_count": 50
  },
  {
   "cell_type": "markdown",
   "metadata": {
    "pycharm": {
     "name": "#%% md\n"
    }
   },
   "source": [
    "### Step 17. How many different items are sold?"
   ]
  },
  {
   "cell_type": "code",
   "metadata": {
    "collapsed": false,
    "pycharm": {
     "name": "#%%\n"
    },
    "ExecuteTime": {
     "end_time": "2025-04-28T07:17:31.758228Z",
     "start_time": "2025-04-28T07:17:31.753327Z"
    }
   },
   "source": "chipo.item_name.nunique()",
   "outputs": [
    {
     "data": {
      "text/plain": [
       "50"
      ]
     },
     "execution_count": 51,
     "metadata": {},
     "output_type": "execute_result"
    }
   ],
   "execution_count": 51
  },
  {
   "metadata": {},
   "cell_type": "code",
   "outputs": [],
   "execution_count": null,
   "source": ""
  }
 ],
 "metadata": {
  "anaconda-cloud": {},
  "kernelspec": {
   "display_name": "Python [default]",
   "language": "python",
   "name": "python2"
  },
  "language_info": {
   "codemirror_mode": {
    "name": "ipython",
    "version": 2
   },
   "file_extension": ".py",
   "mimetype": "text/x-python",
   "name": "python",
   "nbconvert_exporter": "python",
   "pygments_lexer": "ipython2",
   "version": "2.7.12"
  }
 },
 "nbformat": 4,
 "nbformat_minor": 0
}

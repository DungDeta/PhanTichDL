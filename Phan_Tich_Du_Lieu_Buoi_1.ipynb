{
 "nbformat": 4,
 "nbformat_minor": 0,
 "metadata": {
  "colab": {
   "provenance": []
  },
  "kernelspec": {
   "name": "python3",
   "display_name": "Python 3 (ipykernel)",
   "language": "python"
  },
  "language_info": {
   "name": "python"
  }
 },
 "cells": [
  {
   "metadata": {
    "ExecuteTime": {
     "end_time": "2025-04-21T19:34:53.586335Z",
     "start_time": "2025-04-21T19:34:52.834638Z"
    }
   },
   "cell_type": "code",
   "source": [
    "import numpy as np\n",
    "import pandas as pd\n",
    "import re\n",
    "import json\n",
    "datafolder = 'data/python_10_exercises_dataset'"
   ],
   "outputs": [],
   "execution_count": 2
  },
  {
   "cell_type": "markdown",
   "source": [
    "## 1. Đọc file TXT (sample.txt) và đếm số từ, ký tự, dòng\n",
    "Viết chương trình đọc một file .txt, in ra:\n",
    "\n",
    "  - Tổng số dòng\n",
    "\n",
    "  - Tổng số từ\n",
    "\n",
    "  - Tổng số ký tự"
   ],
   "metadata": {
    "id": "Py9ukci5uTmi"
   }
  },
  {
   "cell_type": "code",
   "source": [
    "text_file= open(datafolder+'/sample.txt',mode='r')\n",
    "line=0\n",
    "word=0\n",
    "char=0\n",
    "lines=text_file.readlines()\n",
    "text_file.close()\n",
    "for i in lines:\n",
    "    line+=1\n",
    "    word+=len(i.split())\n",
    "    char+=len(i)\n",
    "print(line,word,char)"
   ],
   "metadata": {
    "id": "YNYAoZQ-v-92",
    "ExecuteTime": {
     "end_time": "2025-04-21T19:34:53.600355Z",
     "start_time": "2025-04-21T19:34:53.595337Z"
    }
   },
   "outputs": [
    {
     "name": "stdout",
     "output_type": "stream",
     "text": [
      "100 639 3667\n"
     ]
    }
   ],
   "execution_count": 3
  },
  {
   "cell_type": "markdown",
   "source": [
    "## 2. Làm sạch dữ liệu văn bản\n",
    "Viết hàm nhận vào một chuỗi văn bản (hoặc từ file .txt), loại bỏ:\n",
    "\n",
    "Ký tự đặc biệt\n",
    "\n",
    "Khoảng trắng thừa\n",
    "\n",
    "Đưa toàn bộ về chữ thường\n",
    "\n",
    "Gợi ý: sử dụng regex (re module)"
   ],
   "metadata": {
    "id": "zjotWvceuiXb"
   }
  },
  {
   "cell_type": "code",
   "source": [
    "text_dirty_file=open(datafolder+\"/sample_dirty.txt\",'r')\n",
    "text_dirty=text_dirty_file.readlines()\n",
    "text_dirty_file.close()\n",
    "special_char=r'[^a-zA-Z0-9\\s]'\n",
    "for i in range(len(text_dirty)):\n",
    "    text_dirty[i]=text_dirty[i].strip().lower()\n",
    "    word=text_dirty[i].split()\n",
    "    text_dirty[i]=' '.join(word)\n",
    "    text_dirty[i]=re.sub(special_char,'',text_dirty[i])\n",
    "print(text_dirty)"
   ],
   "metadata": {
    "id": "0G5LpoXrv8us",
    "ExecuteTime": {
     "end_time": "2025-04-21T19:34:53.629753Z",
     "start_time": "2025-04-21T19:34:53.623985Z"
    }
   },
   "outputs": [
    {
     "name": "stdout",
     "output_type": "stream",
     "text": [
      "['lets clean up this messy text', 'upper and lower case mixed ', 'here are numbers 123 456 and symbols ', 'ai will change the world', 'here are numbers 123 456 and symbols ', 'this is spaced out text ', 'here are numbers 123 456 and symbols ', 'python is great for data science', 'python is great for data science', 'lets clean up this messy text', 'lets clean up this messy text', 'here are numbers 123 456 and symbols ', 'here are numbers 123 456 and symbols ', 'this is spaced out text ', 'ai will change the world', 'lets clean up this messy text', 'python is great for data science', 'here are numbers 123 456 and symbols ', 'here are numbers 123 456 and symbols ', 'upper and lower case mixed ', 'python is great for data science', 'this is spaced out text ', 'this is spaced out text ', 'python is great for data science', 'here are numbers 123 456 and symbols ', 'lets clean up this messy text', 'text processing  is fun  educational', 'text processing  is fun  educational', 'here are numbers 123 456 and symbols ', 'here are numbers 123 456 and symbols ', 'lets clean up this messy text', 'python is great for data science', 'lets clean up this messy text', 'text processing  is fun  educational', 'text processing  is fun  educational', 'python is great for data science', 'text processing  is fun  educational', 'upper and lower case mixed ', 'ai will change the world', 'lets clean up this messy text', 'this is spaced out text ', 'ai will change the world', 'here are numbers 123 456 and symbols ', 'here are numbers 123 456 and symbols ', 'this is spaced out text ', 'upper and lower case mixed ', 'lets clean up this messy text', 'upper and lower case mixed ', 'upper and lower case mixed ', 'ai will change the world', 'here are numbers 123 456 and symbols ', 'ai will change the world', 'here are numbers 123 456 and symbols ', 'lets clean up this messy text', 'this is spaced out text ', 'upper and lower case mixed ', 'lets clean up this messy text', 'ai will change the world', 'lets clean up this messy text', 'here are numbers 123 456 and symbols ', 'ai will change the world', 'python is great for data science', 'text processing  is fun  educational', 'ai will change the world', 'ai will change the world', 'ai will change the world', 'python is great for data science', 'python is great for data science', 'upper and lower case mixed ', 'here are numbers 123 456 and symbols ', 'lets clean up this messy text', 'upper and lower case mixed ', 'python is great for data science', 'python is great for data science', 'ai will change the world', 'ai will change the world', 'here are numbers 123 456 and symbols ', 'here are numbers 123 456 and symbols ', 'text processing  is fun  educational', 'this is spaced out text ', 'here are numbers 123 456 and symbols ', 'upper and lower case mixed ', 'here are numbers 123 456 and symbols ', 'here are numbers 123 456 and symbols ', 'upper and lower case mixed ', 'python is great for data science', 'this is spaced out text ', 'here are numbers 123 456 and symbols ', 'this is spaced out text ', 'text processing  is fun  educational', 'text processing  is fun  educational', 'upper and lower case mixed ', 'this is spaced out text ', 'ai will change the world', 'this is spaced out text ', 'upper and lower case mixed ', 'ai will change the world', 'here are numbers 123 456 and symbols ', 'lets clean up this messy text', 'ai will change the world']\n"
     ]
    }
   ],
   "execution_count": 4
  },
  {
   "cell_type": "markdown",
   "source": [
    " ## 3. Đọc file CSV chứa danh sách sinh viên và tính điểm trung bình\n",
    "File students.csv có dạng:\n",
    "\n",
    "Name,Math,Physics,Chemistry\n",
    "\n",
    "An,8,7,9\n",
    "\n",
    "Bình,6,5,7\n",
    "\n",
    "Viết chương trình đọc file và tính điểm trung bình cho từng sinh viên, sau đó lưu kết quả ra file mới avg_scores.csv."
   ],
   "metadata": {
    "id": "oJLpEswhuqH7"
   }
  },
  {
   "cell_type": "code",
   "source": [
    "data_sinhvien= pd.read_csv(datafolder+'/students_scores.csv')\n",
    "result_file= datafolder+'/avg_scores.csv'\n",
    "print(data_sinhvien.columns)\n",
    "result= pd.DataFrame(columns=['Name','Average'])\n",
    "result.Name= data_sinhvien['Name']\n",
    "result['Average']= (data_sinhvien['Math']+data_sinhvien['Physics']+data_sinhvien['Chemistry'])/3\n",
    "result.to_csv(result_file,index=False)"
   ],
   "metadata": {
    "id": "SA53b5Lgv9W9",
    "ExecuteTime": {
     "end_time": "2025-04-21T19:34:53.692563Z",
     "start_time": "2025-04-21T19:34:53.657795Z"
    }
   },
   "outputs": [
    {
     "name": "stdout",
     "output_type": "stream",
     "text": [
      "Index(['Name', 'Math', 'Physics', 'Chemistry'], dtype='object')\n"
     ]
    }
   ],
   "execution_count": 5
  },
  {
   "cell_type": "markdown",
   "source": [
    "## 4. Clean và chuẩn hóa dữ liệu trong CSV\n",
    "\n",
    "File chứa các bản ghi không đồng nhất:\n",
    "\n",
    "\n",
    "name,age,gender\n",
    "\n",
    "\"  an \",20,Male\n",
    "\n",
    "\"BINH\",,FEMALE\n",
    "\n",
    "\"Ha\",25,unknown\n",
    "\n",
    "Viết hàm:\n",
    "\n",
    "- Xoá khoảng trắng, chuẩn hóa viết hoa/thường cho cột name, gender\n",
    "\n",
    "- Thay giá trị thiếu (age) bằng giá trị trung bình\n",
    "\n",
    "- Thay “unknown” thành “other” ở cột gender\n"
   ],
   "metadata": {
    "id": "IjOsvkx0u35D"
   }
  },
  {
   "cell_type": "code",
   "source": [
    "raw_data= pd.read_csv(datafolder+'/raw_data_clean.csv')\n",
    "print(raw_data.columns)\n",
    "avg=raw_data['age'].mean()\n",
    "def chuan_hoa_name(s:str):\n",
    "    s=s.strip().lower()\n",
    "    s=s[0].upper()+s[1:]\n",
    "    return s\n",
    "def chuan_hoa_gender(data):\n",
    "    if type(data)!= str or data=='unknown':\n",
    "        data='other'\n",
    "    data=data.strip().lower()\n",
    "    return data\n",
    "def chuan_hoa_age(data):\n",
    "    if pd.isna(data):\n",
    "        data=avg\n",
    "    return data\n",
    "for i in range(len(raw_data)):\n",
    "    raw_data.loc[i,'name']=chuan_hoa_name(raw_data.loc[i,'name'])\n",
    "    raw_data.loc[i,'gender']=chuan_hoa_gender(raw_data.loc[i,'gender'])\n",
    "    raw_data.loc[i,'age']=chuan_hoa_age(raw_data.loc[i,'age'])\n",
    "raw_data"
   ],
   "metadata": {
    "id": "AGk9X6IqwAcg",
    "ExecuteTime": {
     "end_time": "2025-04-21T19:37:12.951385Z",
     "start_time": "2025-04-21T19:37:12.893725Z"
    }
   },
   "outputs": [
    {
     "name": "stdout",
     "output_type": "stream",
     "text": [
      "Index(['name', 'age', 'gender'], dtype='object')\n"
     ]
    },
    {
     "data": {
      "text/plain": [
       "           name   age   gender\n",
       "0    \"  binh  \"  33.0   female\n",
       "1      \"  ha  \"  21.0   female\n",
       "2     \"  nam  \"  24.0   female\n",
       "3      \"  ha  \"  34.0   female\n",
       "4    \"  john  \"  31.0  unknown\n",
       "..          ...   ...      ...\n",
       "95   \"  binh  \"  31.0    other\n",
       "96   \"  binh  \"  26.0    other\n",
       "97   \"  tuan  \"  20.0    other\n",
       "98  \"  trang  \"  21.0   female\n",
       "99    \"  nam  \"  31.0     male\n",
       "\n",
       "[100 rows x 3 columns]"
      ],
      "text/html": [
       "<div>\n",
       "<style scoped>\n",
       "    .dataframe tbody tr th:only-of-type {\n",
       "        vertical-align: middle;\n",
       "    }\n",
       "\n",
       "    .dataframe tbody tr th {\n",
       "        vertical-align: top;\n",
       "    }\n",
       "\n",
       "    .dataframe thead th {\n",
       "        text-align: right;\n",
       "    }\n",
       "</style>\n",
       "<table border=\"1\" class=\"dataframe\">\n",
       "  <thead>\n",
       "    <tr style=\"text-align: right;\">\n",
       "      <th></th>\n",
       "      <th>name</th>\n",
       "      <th>age</th>\n",
       "      <th>gender</th>\n",
       "    </tr>\n",
       "  </thead>\n",
       "  <tbody>\n",
       "    <tr>\n",
       "      <th>0</th>\n",
       "      <td>\"  binh  \"</td>\n",
       "      <td>33.0</td>\n",
       "      <td>female</td>\n",
       "    </tr>\n",
       "    <tr>\n",
       "      <th>1</th>\n",
       "      <td>\"  ha  \"</td>\n",
       "      <td>21.0</td>\n",
       "      <td>female</td>\n",
       "    </tr>\n",
       "    <tr>\n",
       "      <th>2</th>\n",
       "      <td>\"  nam  \"</td>\n",
       "      <td>24.0</td>\n",
       "      <td>female</td>\n",
       "    </tr>\n",
       "    <tr>\n",
       "      <th>3</th>\n",
       "      <td>\"  ha  \"</td>\n",
       "      <td>34.0</td>\n",
       "      <td>female</td>\n",
       "    </tr>\n",
       "    <tr>\n",
       "      <th>4</th>\n",
       "      <td>\"  john  \"</td>\n",
       "      <td>31.0</td>\n",
       "      <td>unknown</td>\n",
       "    </tr>\n",
       "    <tr>\n",
       "      <th>...</th>\n",
       "      <td>...</td>\n",
       "      <td>...</td>\n",
       "      <td>...</td>\n",
       "    </tr>\n",
       "    <tr>\n",
       "      <th>95</th>\n",
       "      <td>\"  binh  \"</td>\n",
       "      <td>31.0</td>\n",
       "      <td>other</td>\n",
       "    </tr>\n",
       "    <tr>\n",
       "      <th>96</th>\n",
       "      <td>\"  binh  \"</td>\n",
       "      <td>26.0</td>\n",
       "      <td>other</td>\n",
       "    </tr>\n",
       "    <tr>\n",
       "      <th>97</th>\n",
       "      <td>\"  tuan  \"</td>\n",
       "      <td>20.0</td>\n",
       "      <td>other</td>\n",
       "    </tr>\n",
       "    <tr>\n",
       "      <th>98</th>\n",
       "      <td>\"  trang  \"</td>\n",
       "      <td>21.0</td>\n",
       "      <td>female</td>\n",
       "    </tr>\n",
       "    <tr>\n",
       "      <th>99</th>\n",
       "      <td>\"  nam  \"</td>\n",
       "      <td>31.0</td>\n",
       "      <td>male</td>\n",
       "    </tr>\n",
       "  </tbody>\n",
       "</table>\n",
       "<p>100 rows × 3 columns</p>\n",
       "</div>"
      ]
     },
     "execution_count": 11,
     "metadata": {},
     "output_type": "execute_result"
    }
   ],
   "execution_count": 11
  },
  {
   "cell_type": "markdown",
   "source": [
    "## 5. Quản lý danh bạ dùng class và lưu vào file JSON\n",
    "\n",
    "\n",
    "Tạo class Contact với các thuộc tính: tên, số điện thoại, email.\n",
    "Tạo ContactBook để thêm, xoá, tìm kiếm và lưu toàn bộ danh bạ vào file contacts.json."
   ],
   "metadata": {
    "id": "MZ1aJ8xHvChz"
   }
  },
  {
   "cell_type": "code",
   "source": [
    "class Contact:\n",
    "    def __init__(self, name, phone, email):\n",
    "        self.name = name\n",
    "        self.phone = phone\n",
    "        self.email = email\n",
    "class ContactBook:\n",
    "    def __init__(self):\n",
    "        self.contacts = []\n",
    "    def add_contact(self, contact):\n",
    "        self.contacts.append(contact)\n",
    "    def remove_contact(self, name):\n",
    "        self.contacts = [contact for contact in self.contacts if contact.name != name]\n",
    "    def find_contact(self, name):\n",
    "        for contact in self.contacts:\n",
    "            if contact.name == name:\n",
    "                return contact\n",
    "        return None\n",
    "    def save_to_json(self, filename):\n",
    "        data = [{'name': contact.name, 'phone': contact.phone, 'email': contact.email} for contact in self.contacts]\n",
    "        with open(\"contacts.json\", 'w') as f:\n",
    "            json.dump(\"contacts.json\", f)"
   ],
   "metadata": {
    "id": "hH7zKXarwA_o",
    "ExecuteTime": {
     "end_time": "2025-04-21T19:34:53.810373Z",
     "start_time": "2025-04-21T19:34:53.804384Z"
    }
   },
   "outputs": [],
   "execution_count": 7
  },
  {
   "cell_type": "markdown",
   "source": [
    "## 6. Phân tích log file\n",
    "Cho file log.txt chứa dữ liệu dạng:\n",
    "\n",
    "\n",
    "[2025-04-20 10:15:23] ERROR: Cannot connect to server\n",
    "\n",
    "\n",
    "[2025-04-20 10:16:01] INFO: Retry connection\n",
    "\n",
    "Viết chương trình:\n",
    "\n",
    "Đếm số lần xuất hiện của mỗi loại log: INFO, ERROR, WARNING\n",
    "\n",
    "Lọc ra toàn bộ dòng chứa ERROR\n"
   ],
   "metadata": {
    "id": "mSG18xymvONE"
   }
  },
  {
   "cell_type": "code",
   "source": [
    "log_file=open(datafolder+'/log.txt','r')\n",
    "log=log_file.readlines()\n",
    "log_file.close()\n",
    "info=0\n",
    "error=0\n",
    "warning=0\n",
    "for i in log:\n",
    "    if 'INFO' in i:\n",
    "        info+=1\n",
    "    if 'ERROR' in i:\n",
    "        error+=1\n",
    "        print(i,end='')\n",
    "    if 'WARNING' in i:\n",
    "        warning+=1"
   ],
   "metadata": {
    "id": "HbQ3pXe7wBeb",
    "ExecuteTime": {
     "end_time": "2025-04-21T19:34:53.863545Z",
     "start_time": "2025-04-21T19:34:53.857356Z"
    }
   },
   "outputs": [
    {
     "name": "stdout",
     "output_type": "stream",
     "text": [
      "[2025-04-20 10:30:34] ERROR: Sample log message\n",
      "[2025-04-20 10:31:32] ERROR: Sample log message\n",
      "[2025-04-20 10:51:31] ERROR: Sample log message\n",
      "[2025-04-20 10:46:12] ERROR: Sample log message\n",
      "[2025-04-20 10:28:54] ERROR: Sample log message\n",
      "[2025-04-20 10:37:19] ERROR: Sample log message\n",
      "[2025-04-20 10:42:30] ERROR: Sample log message\n",
      "[2025-04-20 10:38:19] ERROR: Sample log message\n",
      "[2025-04-20 10:57:32] ERROR: Sample log message\n",
      "[2025-04-20 10:25:28] ERROR: Sample log message\n",
      "[2025-04-20 10:50:51] ERROR: Sample log message\n",
      "[2025-04-20 10:46:14] ERROR: Sample log message\n",
      "[2025-04-20 10:58:34] ERROR: Sample log message\n",
      "[2025-04-20 10:45:21] ERROR: Sample log message\n",
      "[2025-04-20 10:22:15] ERROR: Sample log message\n",
      "[2025-04-20 10:36:49] ERROR: Sample log message\n",
      "[2025-04-20 10:42:38] ERROR: Sample log message\n",
      "[2025-04-20 10:46:48] ERROR: Sample log message\n",
      "[2025-04-20 10:20:23] ERROR: Sample log message\n",
      "[2025-04-20 10:35:55] ERROR: Sample log message\n",
      "[2025-04-20 10:12:21] ERROR: Sample log message\n",
      "[2025-04-20 10:35:48] ERROR: Sample log message\n",
      "[2025-04-20 10:58:23] ERROR: Sample log message\n",
      "[2025-04-20 10:33:16] ERROR: Sample log message\n",
      "[2025-04-20 10:21:56] ERROR: Sample log message\n",
      "[2025-04-20 10:58:27] ERROR: Sample log message\n",
      "[2025-04-20 10:13:57] ERROR: Sample log message\n",
      "[2025-04-20 10:19:14] ERROR: Sample log message\n",
      "[2025-04-20 10:18:27] ERROR: Sample log message\n",
      "[2025-04-20 10:44:36] ERROR: Sample log message\n",
      "[2025-04-20 10:34:56] ERROR: Sample log message\n",
      "[2025-04-20 10:30:32] ERROR: Sample log message\n",
      "[2025-04-20 10:42:57] ERROR: Sample log message\n",
      "[2025-04-20 10:47:13] ERROR: Sample log message\n",
      "[2025-04-20 10:40:31] ERROR: Sample log message\n"
     ]
    }
   ],
   "execution_count": 8
  },
  {
   "cell_type": "markdown",
   "source": [
    "## 7. Tạo class StudentManager quản lý sinh viên từ file CSV\n",
    "\n",
    "Viết class:\n",
    "\n",
    "Đọc danh sách từ CSV\n",
    "\n",
    "Cho phép: thêm sinh viên, xoá sinh viên theo tên, tìm sinh viên theo mã\n",
    "\n",
    "Lưu thay đổi về file gốc"
   ],
   "metadata": {
    "id": "3E2xdVWFvWM8"
   }
  },
  {
   "cell_type": "code",
   "source": [
    "class StudentManager:\n",
    "    def __init__(self, filename):\n",
    "        self.filename = filename\n",
    "        self.students = pd.read_csv(filename)\n",
    "    def add_student(self, student):\n",
    "        self.students = self.students.append(student, ignore_index=True)\n",
    "    def remove_student(self, name):\n",
    "        self.students = self.students[self.students['Name'] != name]\n",
    "    def find_student(self, id):\n",
    "        return self.students[self.students['ID'] == id]\n",
    "    def save(self):\n",
    "        self.students.to_csv(self.filename, index=False)"
   ],
   "metadata": {
    "id": "bcXqMdwSwB_O",
    "ExecuteTime": {
     "end_time": "2025-04-21T19:37:33.754101Z",
     "start_time": "2025-04-21T19:37:33.749104Z"
    }
   },
   "outputs": [],
   "execution_count": 12
  },
  {
   "cell_type": "markdown",
   "source": [
    "## 8. Merge nhiều file CSV\n",
    "\n",
    "\n",
    "Cho nhiều file CSV cùng cấu trúc trong một thư mục (ví dụ: data1.csv, data2.csv,...)\n",
    "\n",
    "Viết chương trình:\n",
    "\n",
    "\n",
    "Đọc tất cả file trong thư mục\n",
    "\n",
    "Gộp lại thành một file duy nhất merged.csv\n",
    "\n",
    "Loại bỏ các dòng trùng lặp (dựa trên một cột như ID)"
   ],
   "metadata": {
    "id": "jq5flkkCvaHe"
   }
  },
  {
   "cell_type": "code",
   "source": [
    "file_arr=['data1.csv','data2.csv']\n",
    "merged_file= pd.DataFrame()\n",
    "for i in file_arr:\n",
    "    data= pd.read_csv(datafolder+'/csv_folder/'+i)\n",
    "    merged_file= pd.concat([merged_file,data],ignore_index=True)\n",
    "merged_file.drop_duplicates(subset=['ID'], inplace=True)\n",
    "merged_file.to_csv(datafolder+'/merged.csv',index=False)"
   ],
   "metadata": {
    "id": "DG3fYiItwCbz",
    "ExecuteTime": {
     "end_time": "2025-04-21T19:42:50.656951Z",
     "start_time": "2025-04-21T19:42:50.638154Z"
    }
   },
   "outputs": [],
   "execution_count": 16
  },
  {
   "cell_type": "markdown",
   "source": [
    "## 9. Thống kê dữ liệu từ CSV dạng bảng\n",
    "\n",
    "File sales.csv có dạng:\n",
    "\n",
    "\n",
    "Date,Product,Amount\n",
    "\n",
    "2025-01-01,Apple,100\n",
    "\n",
    "2025-01-01,Banana,150\n",
    "\n",
    "2025-01-02,Apple,200\n",
    "\n",
    "Yêu cầu:\n",
    "\n",
    "Tính tổng doanh thu mỗi sản phẩm\n",
    "\n",
    "Tìm ngày có doanh thu cao nhất"
   ],
   "metadata": {
    "id": "4lIbQUwgvmR9"
   }
  },
  {
   "cell_type": "code",
   "source": [
    "data_sale= pd.read_csv(datafolder+'/sales.csv')\n",
    "product_sum={}\n",
    "for i in range(len(data_sale)):\n",
    "    if data_sale.loc[i,'Product'] not in product_sum:\n",
    "        product_sum[data_sale.loc[i,'Product']] = data_sale.loc[i,'Amount']\n",
    "    else:\n",
    "        product_sum[data_sale.loc[i,'Product']] += data_sale.loc[i,'Amount']\n",
    "print(product_sum)\n",
    "date_sum={}\n",
    "for i in range(len(data_sale)):\n",
    "    if data_sale.loc[i,'Date'] not in date_sum:\n",
    "        date_sum[data_sale.loc[i,'Date']] = data_sale.loc[i,'Amount']\n",
    "    else:\n",
    "        date_sum[data_sale.loc[i,'Date']] += data_sale.loc[i,'Amount']\n",
    "max_date = max(date_sum, key=date_sum.get)\n",
    "print(max_date)"
   ],
   "metadata": {
    "id": "EDhdonwMwC6S",
    "ExecuteTime": {
     "end_time": "2025-04-21T19:49:18.811636Z",
     "start_time": "2025-04-21T19:49:18.800376Z"
    }
   },
   "outputs": [
    {
     "name": "stdout",
     "output_type": "stream",
     "text": [
      "{'Apple': np.int64(6607), 'Grape': np.int64(7589), 'Orange': np.int64(7837), 'Banana': np.int64(5965)}\n",
      "2025-01-08\n"
     ]
    }
   ],
   "execution_count": 22
  },
  {
   "cell_type": "markdown",
   "source": [
    "## 10. Mini Project: Quản lý thư viện\n",
    "\n",
    "Viết một chương trình sử dụng class để quản lý sách:\n",
    "\n",
    "- Class Book (tên, tác giả, năm, mã sách)\n",
    "\n",
    "- Class Library chứa danh sách sách, hỗ trợ: thêm sách, mượn sách, trả sách, tìm kiếm theo tên hoặc mã\n",
    "\n",
    "Lưu và đọc thông tin từ file library.csv"
   ],
   "metadata": {
    "id": "CqhE9EUovxF2"
   }
  },
  {
   "cell_type": "code",
   "source": [
    "class Book:\n",
    "    def __init__(self, title, author, year, book_id):\n",
    "        self.title = title\n",
    "        self.author = author\n",
    "        self.year = year\n",
    "        self.book_id = book_id\n",
    "class Library:\n",
    "    def __init__(self, filename):\n",
    "        self.filename = filename\n",
    "        self.books = pd.read_csv(filename)\n",
    "        self.books['status'] = 'available'\n",
    "    def add_book(self, book):\n",
    "        self.books = self.books.append(book, ignore_index=True)\n",
    "    def borrow_book(self, book_id):\n",
    "        if self.find_book_id(book_id).shape[0] > 0:\n",
    "            if self.books.loc[self.books['code'] == book_id, 'status'].values[0] == 'available':\n",
    "                self.books.loc[self.books['code'] == book_id, 'status'] = 'borrowed'\n",
    "            else:\n",
    "                print(\"Sách đã cho mượn\")\n",
    "        else:\n",
    "            print(\"Không tìm thấy sách\")\n",
    "    def return_book(self, book):\n",
    "        self.books = self.books.append(book, ignore_index=True)\n",
    "    def find_book_name(self, name):\n",
    "        return self.books[(self.books['name'] == name)]\n",
    "    def find_book_id(self, book_id):\n",
    "        return self.books[(self.books['code'] == book_id)]\n",
    "    def save(self):\n",
    "        self.books.to_csv(self.filename, index=False)\n",
    "\n",
    "lib=Library(datafolder+'/library.csv')\n",
    "print(lib.borrow_book(\"BK0007\"))"
   ],
   "metadata": {
    "id": "fTBBdPjQwDhx",
    "ExecuteTime": {
     "end_time": "2025-04-21T19:59:09.563218Z",
     "start_time": "2025-04-21T19:59:09.552660Z"
    }
   },
   "outputs": [
    {
     "name": "stdout",
     "output_type": "stream",
     "text": [
      "None\n"
     ]
    }
   ],
   "execution_count": 29
  },
  {
   "metadata": {},
   "cell_type": "code",
   "outputs": [],
   "execution_count": null,
   "source": ""
  }
 ]
}
